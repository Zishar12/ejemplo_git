{
 "cells": [
  {
   "cell_type": "markdown",
   "id": "75bc9ea1",
   "metadata": {},
   "source": [
    "# Clase 4"
   ]
  },
  {
   "cell_type": "markdown",
   "id": "4b617396",
   "metadata": {},
   "source": [
    "## FUndamentos de clases y objetos"
   ]
  },
  {
   "cell_type": "markdown",
   "id": "42c5805e",
   "metadata": {},
   "source": [
    "### Atributos de clases e instancias"
   ]
  },
  {
   "cell_type": "code",
   "execution_count": 2,
   "id": "e16a1052",
   "metadata": {},
   "outputs": [],
   "source": [
    "class Vehiculo:\n",
    "    pais = \"Peru\"\n",
    "\n",
    "    def __init__(self,r_marca, r_modelo, r_color):\n",
    "        self.marca = r_marca\n",
    "        self.modelo = r_modelo\n",
    "        self.color = r_color"
   ]
  },
  {
   "cell_type": "code",
   "execution_count": null,
   "id": "0d20d166",
   "metadata": {},
   "outputs": [],
   "source": [
    "Vehiculo1 = Vehiculo(\"Toyota\",\"Corolla\",\"Rojo\")\n",
    "Vehiculo2 = Vehiculo(\"Ford\",\"FIesta\",\"Negro\")\n",
    "Vehiculo3 = Vehiculo(\"Honda\",\"Civic\",\"Azul\")"
   ]
  },
  {
   "cell_type": "code",
   "execution_count": 7,
   "id": "e43a3eed",
   "metadata": {},
   "outputs": [
    {
     "name": "stdout",
     "output_type": "stream",
     "text": [
      "Vehiculo 1\n",
      "Marca: Toyota\n",
      "Modelo: Corolla\n",
      "Color: Rojo\n"
     ]
    }
   ],
   "source": [
    "print(\"Vehiculo 1\")\n",
    "print(f\"Marca: {Vehiculo1.marca}\")\n",
    "print(f\"Modelo: {Vehiculo1.modelo}\")\n",
    "print(f\"Color: {Vehiculo1.color}\")"
   ]
  },
  {
   "cell_type": "code",
   "execution_count": 8,
   "id": "ebc4a8b7",
   "metadata": {},
   "outputs": [
    {
     "name": "stdout",
     "output_type": "stream",
     "text": [
      "Vehiculo 2\n",
      "Marca: Ford\n",
      "Modelo: FIesta\n",
      "Color: Negro\n"
     ]
    }
   ],
   "source": [
    "print(\"Vehiculo 2\")\n",
    "print(f\"Marca: {Vehiculo2.marca}\")\n",
    "print(f\"Modelo: {Vehiculo2.modelo}\")\n",
    "print(f\"Color: {Vehiculo2.color}\")"
   ]
  },
  {
   "cell_type": "code",
   "execution_count": null,
   "id": "7c17da45",
   "metadata": {},
   "outputs": [
    {
     "name": "stdout",
     "output_type": "stream",
     "text": [
      "Vehiculo 3\n",
      "Marca: Honda\n",
      "Modelo: Civic\n",
      "Color: Azul\n"
     ]
    }
   ],
   "source": [
    "print(\"Vehiculo 3\")\n",
    "print(f\"Marca: {Vehiculo3.marca}\")\n",
    "print(f\"Modelo: {Vehiculo3.modelo}\")\n",
    "print(f\"Color: {Vehiculo3.color}\")"
   ]
  },
  {
   "cell_type": "code",
   "execution_count": 10,
   "id": "b194d21b",
   "metadata": {},
   "outputs": [
    {
     "name": "stdout",
     "output_type": "stream",
     "text": [
      "Paises de los vehiculos\n",
      "Vehiculo1: Peru\n",
      "Vehiculo2: Peru\n",
      "Vehiculo3: Peru\n"
     ]
    }
   ],
   "source": [
    "print(\"Paises de los vehiculos\")\n",
    "print(f\"Vehiculo1: {Vehiculo1.pais}\")\n",
    "print(f\"Vehiculo2: {Vehiculo2.pais}\")\n",
    "print(f\"Vehiculo3: {Vehiculo3.pais}\")"
   ]
  },
  {
   "cell_type": "code",
   "execution_count": null,
   "id": "94299295",
   "metadata": {},
   "outputs": [],
   "source": [
    "#Vehiculo1 = Vehiculo(\"Toyota\",\"Corolla\",\"Rojo\")\n",
    "Vehiculo1.color = \"Amarillo\"\n",
    "#Vehiculo2 = Vehiculo(\"Ford\",\"FIesta\",\"Negro\")\n",
    "Vehiculo2.color = \"Verde\"\n",
    "#Vehiculo3 = Vehiculo(\"Honda\",\"Civic\",\"Azul\")\n",
    "Vehiculo3.color = \"Celeste\""
   ]
  },
  {
   "cell_type": "markdown",
   "id": "bfd3fd8d",
   "metadata": {},
   "source": [
    "### Metodo de clase e instancias"
   ]
  },
  {
   "cell_type": "code",
   "execution_count": null,
   "id": "4208e02a",
   "metadata": {},
   "outputs": [
    {
     "ename": "IndentationError",
     "evalue": "unexpected indent (3234497776.py, line 12)",
     "output_type": "error",
     "traceback": [
      "  \u001b[36mCell\u001b[39m\u001b[36m \u001b[39m\u001b[32mIn[19]\u001b[39m\u001b[32m, line 12\u001b[39m\n\u001b[31m    \u001b[39m\u001b[31mdef mostrar_pais(cls):\u001b[39m\n    ^\n\u001b[31mIndentationError\u001b[39m\u001b[31m:\u001b[39m unexpected indent\n"
     ]
    }
   ],
   "source": [
    "class Vehiculo:\n",
    "    pais = \"Peru\"\n",
    "\n",
    "    def __init__(self,r_marca, r_modelo, r_color):\n",
    "        self.marca = r_marca\n",
    "        self.modelo = r_modelo\n",
    "        self.color = r_color\n",
    "    \n",
    "    def mostrar_info(self):\n",
    "        print(f\"Marca: {self.marca}, Modelo: {self.modelo}, Color: {self.color}\")\n",
    "#@classmethod\n",
    "    def mostrar_pais(cls):\n",
    "        print(f\"Pais: {cls.pais}\")"
   ]
  },
  {
   "cell_type": "code",
   "execution_count": null,
   "id": "acb06024",
   "metadata": {},
   "outputs": [],
   "source": [
    "Vehiculo1 = Vehiculo(\"Toyota\",\"Corolla\",\"Rojo\")\n",
    "Vehiculo2 = Vehiculo(\"Ford\",\"FIesta\",\"Negro\")\n",
    "Vehiculo3 = Vehiculo(\"Honda\",\"Civic\",\"Azul\")"
   ]
  },
  {
   "cell_type": "code",
   "execution_count": null,
   "id": "149c9437",
   "metadata": {},
   "outputs": [
    {
     "name": "stdout",
     "output_type": "stream",
     "text": [
      "Vehiculo 1\n",
      "Marca: Toyota, Modelo: Corolla, Color: Rojo\n",
      "Vehiculo 2\n",
      "Marca: Ford, Modelo: FIesta, Color: Negro\n",
      "Vehiculo 3\n",
      "Marca: Honda, Modelo: Civic, Color: Azul\n"
     ]
    }
   ],
   "source": [
    "print(\"Vehiculo 1\")\n",
    "Vehiculo1.mostrar_info()\n",
    "print(\"Vehiculo 2\")\n",
    "Vehiculo2.mostrar_info()\n",
    "print(\"Vehiculo 3\")\n",
    "Vehiculo3.mostrar_info()"
   ]
  },
  {
   "cell_type": "code",
   "execution_count": null,
   "id": "05a1cd74",
   "metadata": {},
   "outputs": [
    {
     "name": "stdout",
     "output_type": "stream",
     "text": [
      "Vehiculo 1\n",
      "Pais: Peru\n",
      "Vehiculo 2\n",
      "Pais: Peru\n",
      "Vehiculo 3\n",
      "Pais: Peru\n"
     ]
    }
   ],
   "source": [
    "print(\"Vehiculo 1\")\n",
    "Vehiculo1.mostrar_pais()\n",
    "print(\"Vehiculo 2\")\n",
    "Vehiculo2.mostrar_pais()\n",
    "print(\"Vehiculo 3\")\n",
    "Vehiculo3.mostrar_pais()"
   ]
  },
  {
   "cell_type": "markdown",
   "id": "688c7414",
   "metadata": {},
   "source": [
    "### Encapsulamiento"
   ]
  },
  {
   "cell_type": "code",
   "execution_count": 20,
   "id": "2145da69",
   "metadata": {},
   "outputs": [],
   "source": [
    "class Personas:\n",
    "    def __init__(self, r_nombre, r_edad, r_estado_civil, r_dni):\n",
    "        self.nombre = r_nombre\n",
    "        self.edad = r_edad\n",
    "        self._estado_civil = r_estado_civil #El .- --> sinifica que esta protegido\n",
    "        self.__dni = r_dni #El .__ significa que es privado\n",
    "\n",
    "    def get_estado_civil(self):\n",
    "        return self._estado_civil\n",
    "    \n",
    "    def set_nuevo_valor(self, nuevo_valor):\n",
    "        self._estado_civil = nuevo_valor\n",
    "\n",
    "    def get_dni(self):\n",
    "        return self.__dni\n",
    "    \n",
    "    def set_dni(self, nuevo_valor):\n",
    "        self.__dni = nuevo_valor"
   ]
  },
  {
   "cell_type": "code",
   "execution_count": 23,
   "id": "31419cec",
   "metadata": {},
   "outputs": [
    {
     "name": "stdout",
     "output_type": "stream",
     "text": [
      "Atributos Publicos\n",
      "Pepe\n",
      "45\n",
      "Atributos protegidos\n",
      "Casado\n",
      "Casado\n",
      "Atributos privados\n",
      "78787878\n",
      "78787878\n"
     ]
    }
   ],
   "source": [
    "persona1 = Personas(\"Pepe\",45, \"Casado\",78787878)\n",
    "print(\"Atributos Publicos\")\n",
    "print(persona1.nombre)\n",
    "print(persona1.edad)\n",
    "print(\"Atributos protegidos\")\n",
    "print(persona1.get_estado_civil())\n",
    "print(persona1._estado_civil)\n",
    "print(\"Atributos privados\")\n",
    "print(persona1._Personas__dni) #Se puede acceder de esa forma pero no es recomendado\n",
    "print(persona1.get_dni())"
   ]
  },
  {
   "cell_type": "code",
   "execution_count": 25,
   "id": "a5e81ed6",
   "metadata": {},
   "outputs": [],
   "source": [
    "class Personas:\n",
    "    def __init__(self, r_nombre, r_edad, r_estado_civil, r_dni):\n",
    "        self.nombre = r_nombre\n",
    "        self.edad = r_edad\n",
    "        self._estado_civil = r_estado_civil #El .- --> sinifica que esta protegido\n",
    "        self.__dni = r_dni #El .__ significa que es privado\n",
    "    \n",
    "    @property\n",
    "    def estado_civil(self):\n",
    "        return self._estado_civil\n",
    "\n",
    "    @estado_civil.setter\n",
    "    def estado_civil(self, nuevo_valor):\n",
    "        self._estado_civil = nuevo_valor\n",
    "\n",
    "    @property\n",
    "    def dni(self):\n",
    "        return self.__dni\n",
    "\n",
    "    @dni.setter\n",
    "    def dni(self, nuevo_valor):\n",
    "        self.__dni = nuevo_valor"
   ]
  },
  {
   "cell_type": "code",
   "execution_count": 26,
   "id": "15e0d5d2",
   "metadata": {},
   "outputs": [
    {
     "name": "stdout",
     "output_type": "stream",
     "text": [
      "Atributos Publicos\n",
      "Pepe\n",
      "45\n",
      "Atributos protegidos\n",
      "Casado\n",
      "Atributos privados\n",
      "78787878\n"
     ]
    }
   ],
   "source": [
    "persona1 = Personas(\"Pepe\",45, \"Casado\",78787878)\n",
    "print(\"Atributos Publicos\")\n",
    "print(persona1.nombre)\n",
    "print(persona1.edad)\n",
    "print(\"Atributos protegidos\")\n",
    "print(persona1.estado_civil)\n",
    "print(\"Atributos privados\")\n",
    "print(persona1.dni)"
   ]
  },
  {
   "cell_type": "markdown",
   "id": "1c1ad33e",
   "metadata": {},
   "source": [
    "### Herencia"
   ]
  },
  {
   "cell_type": "code",
   "execution_count": 32,
   "id": "9231ed98",
   "metadata": {},
   "outputs": [],
   "source": [
    "class Mamifero:\n",
    "    def __init__(self, r_especie, r_tamanio, r_peso):\n",
    "        self.especie = r_especie\n",
    "        self.tamanio = r_tamanio\n",
    "        self.peso = r_peso\n",
    "\n",
    "    def moverse(self):\n",
    "        print(\"Me estoy moviendo. \")\n",
    "\n",
    "class Ejemplo:\n",
    "    def __init__(self, r_atributo):\n",
    "        self.atributo = r_atributo\n",
    "\n",
    "class Mascota(Mamifero,Ejemplo):\n",
    "    def __init__(self, r_especie, r_tamanio, r_peso, r_nombre, r_raza):\n",
    "        super().__init__(r_especie, r_tamanio, r_peso)\n",
    "        self.nombre = r_nombre\n",
    "        self.raza = r_raza\n",
    "\n",
    "    def comer(self):\n",
    "        print(\"Estoy comiendo\")\n",
    "\n",
    "class Perro(Mascota):\n",
    "    def __init__(self, r_especie, r_tamanio, r_peso, r_nombre, r_raza, r_vacunado):\n",
    "        super().__init__(r_especie, r_tamanio, r_peso, r_nombre, r_raza)\n",
    "        self.vacunado = r_vacunado\n",
    "\n",
    "    def ladrar():\n",
    "        print(\"Guau !\")"
   ]
  },
  {
   "cell_type": "code",
   "execution_count": 35,
   "id": "b0dd6e2b",
   "metadata": {},
   "outputs": [
    {
     "name": "stdout",
     "output_type": "stream",
     "text": [
      "Mascota 1\n",
      "Gato\n",
      "Variado\n",
      "Variado\n",
      "Luna\n",
      "pelo corto\n",
      "Me estoy moviendo. \n",
      "Estoy comiendo\n",
      "Mamifero 1\n",
      "Elefante\n",
      "Grande\n",
      "Tonelada\n",
      "Perro 1\n",
      "Perro\n",
      "Pequeños\n",
      "5 kg\n",
      "Petiza\n",
      "Pequines\n",
      "True\n"
     ]
    }
   ],
   "source": [
    "mascota1 = Mascota(\"Gato\", \"Variado\", \"Variado\", \"Luna\", \"pelo corto\")\n",
    "\n",
    "print(\"Mascota 1\")\n",
    "print(mascota1.especie)\n",
    "print(mascota1.tamanio)\n",
    "print(mascota1.peso)\n",
    "print(mascota1.nombre)\n",
    "print(mascota1.raza)\n",
    "\n",
    "mascota1.moverse()\n",
    "mascota1.comer()\n",
    "\n",
    "mamifero = Mamifero(\"Elefante\",\"Grande\", \"Tonelada\")\n",
    "\n",
    "print(\"Mamifero 1\")\n",
    "print(mamifero.especie)\n",
    "print(mamifero.tamanio)\n",
    "print(mamifero.peso)\n",
    "\n",
    "\n",
    "perro1 = Perro(\"Perro\",\"Pequeños\", \"5 kg\", \"Petiza\", \"Pequines\", True)\n",
    "\n",
    "print(\"Perro 1\")\n",
    "print(perro1.especie)\n",
    "print(perro1.tamanio)\n",
    "print(perro1.peso)\n",
    "print(perro1.nombre)\n",
    "print(perro1.raza)\n",
    "print(perro1.vacunado)"
   ]
  },
  {
   "cell_type": "markdown",
   "id": "3d646126",
   "metadata": {},
   "source": [
    "### Polimorfismo"
   ]
  },
  {
   "cell_type": "code",
   "execution_count": 39,
   "id": "1c921622",
   "metadata": {},
   "outputs": [],
   "source": [
    "class   Mascota:\n",
    "    def hablar(self):\n",
    "        print(\"Hace un sonido\")\n",
    "\n",
    "class Perro(Mascota):\n",
    "    def hablar(self):\n",
    "        print(\"Guau!\")\n",
    "\n",
    "class Gato(Mascota):\n",
    "    def hablar(self):\n",
    "        print(\"Miau!\")\n",
    "\n",
    "class Loro(Mascota):\n",
    "    def hablar(self):\n",
    "        super().hablar()\n",
    "        print(\"El loro habla\")"
   ]
  },
  {
   "cell_type": "code",
   "execution_count": 41,
   "id": "db702449",
   "metadata": {},
   "outputs": [
    {
     "name": "stdout",
     "output_type": "stream",
     "text": [
      "Hace un sonido\n",
      "Guau!\n",
      "Miau!\n",
      "Hace un sonido\n",
      "El loro habla\n"
     ]
    }
   ],
   "source": [
    "mascota1 = Mascota()\n",
    "perro1 = Perro()\n",
    "gato1 = Gato()\n",
    "loro1 = Loro()\n",
    "\n",
    "mascota1.hablar()\n",
    "perro1.hablar()\n",
    "gato1.hablar()\n",
    "loro1.hablar()"
   ]
  },
  {
   "cell_type": "code",
   "execution_count": null,
   "id": "59ba0c7a",
   "metadata": {},
   "outputs": [],
   "source": [
    "class Mascota:\n",
    "    def __init__(self, r_nombre, r_especie):\n",
    "        self.nombre = r_nombre\n",
    "        self.especie = r_especie\n",
    "\n",
    "    def hablar():\n",
    "        pass"
   ]
  },
  {
   "cell_type": "markdown",
   "id": "ef00ee10",
   "metadata": {},
   "source": [
    "## Ejemplo git"
   ]
  }
 ],
 "metadata": {
  "kernelspec": {
   "display_name": "curso",
   "language": "python",
   "name": "python3"
  },
  "language_info": {
   "codemirror_mode": {
    "name": "ipython",
    "version": 3
   },
   "file_extension": ".py",
   "mimetype": "text/x-python",
   "name": "python",
   "nbconvert_exporter": "python",
   "pygments_lexer": "ipython3",
   "version": "3.11.9"
  }
 },
 "nbformat": 4,
 "nbformat_minor": 5
}
